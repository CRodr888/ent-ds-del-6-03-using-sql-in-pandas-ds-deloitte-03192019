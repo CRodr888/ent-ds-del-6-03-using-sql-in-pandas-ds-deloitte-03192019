{
 "cells": [
  {
   "cell_type": "markdown",
   "metadata": {},
   "source": [
    "# Using SQL with Pandas\n",
    "\n",
    "## Introduction\n",
    "\n",
    "It turns out that you can write SQL to retrieve and mutate information within a DataFrame. We wanted to make sure to provide you with at least a brief introduction to the topic on your last day of the course!\n",
    "\n",
    "## Objectives\n",
    "You will be able to:\n",
    "- Use the basic syntax for querying pandas DataFrames with SQL statements"
   ]
  },
  {
   "cell_type": "markdown",
   "metadata": {},
   "source": [
    "## Pandas and SQL\n",
    "\n",
    "Consider the structure of a **_Pandas DataFrame_**.  \n",
    "\n",
    "<img src=\"images/df_example2.png\" width=\"850\">\n",
    "\n",
    "\n",
    "Now, let's consider the structure of a table from a **_SQL database_**.\n",
    "\n",
    "\n",
    "<img src=\"images/sql_example2.png\">\n",
    "\n",
    "You've probably noticed by now that they're essentially the same--a table of values, with each row having a unique index and each column having a unique name.  Even better, the Pandas team has implemented the ability to retrieve information from a DatFrame using SQL, allowing you to leverage SQL for working with data in a DataFrame."
   ]
  },
  {
   "cell_type": "markdown",
   "metadata": {},
   "source": [
    "## Using `.query()`\n",
    "\n",
    "Pandas DataFrames come with a built-in query method, which allows you to get information from DataFrames quickly without using the cumbersome slicing syntax.  \n",
    "\n",
    "See the following examples:\n",
    "\n",
    "```python\n",
    "# Getting Data using slicing syntax\n",
    "foo_df = bar_df[bar_df[bar_df['Col_1'] > bar_df['Col_2']]]\n",
    "\n",
    "# Using The query method\n",
    "foo_df = bar_df.query(\"Col_1 > Col_2\")\n",
    "\n",
    "# These two lines are equivalent!\n",
    "```\n",
    "\n",
    "Note that if you want to use `AND` and `OR` statements with the `.query()` method, you'll need to use `\"&\"` and `\"|\"` instead.\n",
    "\n",
    "```python\n",
    "foo_df = bar_df.query(\"Col_1 > Col_2 & Col_2 <= Col_3\")\n",
    "\n",
    "```"
   ]
  },
  {
   "cell_type": "markdown",
   "metadata": {},
   "source": [
    "## Summary\n",
    "\n",
    "These advanced methods for querying DataFrames can make your life a lot easier by simplifying the syntax and allowing us to make use of SQL. Use them to save yourself time and give keep your SQL skills strong!"
   ]
  }
 ],
 "metadata": {
  "kernelspec": {
   "display_name": "Python 3",
   "language": "python",
   "name": "python3"
  },
  "language_info": {
   "codemirror_mode": {
    "name": "ipython",
    "version": 3
   },
   "file_extension": ".py",
   "mimetype": "text/x-python",
   "name": "python",
   "nbconvert_exporter": "python",
   "pygments_lexer": "ipython3",
   "version": "3.6.5"
  }
 },
 "nbformat": 4,
 "nbformat_minor": 2
}
